{
 "cells": [
  {
   "cell_type": "markdown",
   "metadata": {},
   "source": [
    "#  과제2_B784044 장태수"
   ]
  },
  {
   "cell_type": "markdown",
   "metadata": {},
   "source": [
    "# Task 1: Variables\n",
    "\n",
    "Create a variable with name ```university``` and assign the string value ```Mannheim```to it."
   ]
  },
  {
   "cell_type": "code",
   "execution_count": 54,
   "metadata": {},
   "outputs": [
    {
     "name": "stdout",
     "output_type": "stream",
     "text": [
      "type of university : <class 'str'>\n"
     ]
    }
   ],
   "source": [
    "#TODO\n",
    "university = 'Manheim'\n",
    "print('type of university :',type(university))"
   ]
  },
  {
   "cell_type": "markdown",
   "metadata": {},
   "source": [
    "Create a list named ```fruits``` with the following elements:\n",
    "- ```'apple'```\n",
    "- ```'banana'```\n",
    "- ```'lemon'```"
   ]
  },
  {
   "cell_type": "code",
   "execution_count": 55,
   "metadata": {},
   "outputs": [
    {
     "name": "stdout",
     "output_type": "stream",
     "text": [
      "['apple', 'banana', 'lemon']\n"
     ]
    }
   ],
   "source": [
    "#TODO\n",
    "fruits = ['apple','banana','lemon']\n",
    "print(fruits)"
   ]
  },
  {
   "cell_type": "markdown",
   "metadata": {},
   "source": [
    "Create a dictionary named ```my_dictionary``` with following key, value pairs:\n",
    "- 'a' -> 'b'\n",
    "- 5 -> 10.0\n",
    "- 'hello' -> 'goodbye'"
   ]
  },
  {
   "cell_type": "code",
   "execution_count": 56,
   "metadata": {},
   "outputs": [
    {
     "name": "stdout",
     "output_type": "stream",
     "text": [
      "b 10.0 goodbye\n"
     ]
    }
   ],
   "source": [
    "#TODO\n",
    "my_dictionary={'a':'b',5:10.0, 'hello':'goodbye'}\n",
    "print(my_dictionary['a'], my_dictionary[5],my_dictionary['hello'])"
   ]
  },
  {
   "cell_type": "markdown",
   "metadata": {},
   "source": [
    "try below the autocomplete function by typing ```my``` and pressing ```<tab>```"
   ]
  },
  {
   "cell_type": "code",
   "execution_count": 57,
   "metadata": {},
   "outputs": [
    {
     "data": {
      "text/plain": [
       "{'a': 'b', 5: 10.0, 'hello': 'goodbye'}"
      ]
     },
     "execution_count": 57,
     "metadata": {},
     "output_type": "execute_result"
    }
   ],
   "source": [
    "#TODO\n",
    "my_dictionary"
   ]
  },
  {
   "cell_type": "markdown",
   "metadata": {},
   "source": [
    "Access the value of key ```'hello'``` in ```my_dictionary```"
   ]
  },
  {
   "cell_type": "code",
   "execution_count": 58,
   "metadata": {},
   "outputs": [
    {
     "data": {
      "text/plain": [
       "'goodbye'"
      ]
     },
     "execution_count": 58,
     "metadata": {},
     "output_type": "execute_result"
    }
   ],
   "source": [
    "#TODO\n",
    "my_dictionary['hello']"
   ]
  },
  {
   "cell_type": "markdown",
   "metadata": {},
   "source": [
    "Create an empty set named ```my_set``` and add the values ```5``` and ```7```"
   ]
  },
  {
   "cell_type": "code",
   "execution_count": 59,
   "metadata": {},
   "outputs": [
    {
     "name": "stdout",
     "output_type": "stream",
     "text": [
      "<class 'set'>\n",
      "set()\n",
      "{5, 7}\n"
     ]
    }
   ],
   "source": [
    "#TODO\n",
    "my_set={}\n",
    "my_set = set(my_set)\n",
    "print(type(my_set))\n",
    "print(my_set)\n",
    "my_set.add(5)\n",
    "my_set.add(7)\n",
    "print(my_set)"
   ]
  },
  {
   "cell_type": "markdown",
   "metadata": {},
   "source": [
    "# Task 2: Conditions and operators\n",
    "Print out if the element ```'cherry'``` is in list named ```fruits```"
   ]
  },
  {
   "cell_type": "code",
   "execution_count": 60,
   "metadata": {},
   "outputs": [
    {
     "data": {
      "text/plain": [
       "'cherry'"
      ]
     },
     "execution_count": 60,
     "metadata": {},
     "output_type": "execute_result"
    }
   ],
   "source": [
    "#TODO\n",
    "fruits.append('cherry')\n",
    "fruits[-1]"
   ]
  },
  {
   "cell_type": "markdown",
   "metadata": {},
   "source": [
    "Print out ```wow``` if more than 1 element is in set named ```my_set```, otherwise print out ```not so many```"
   ]
  },
  {
   "cell_type": "code",
   "execution_count": 61,
   "metadata": {},
   "outputs": [
    {
     "name": "stdout",
     "output_type": "stream",
     "text": [
      "my_set: {5, 7}\n",
      "wow\n"
     ]
    }
   ],
   "source": [
    "#TODO\n",
    "print('my_set:',my_set)\n",
    "if len(my_set)>0:\n",
    "    print('wow')\n",
    "else:\n",
    "    print('not so many')"
   ]
  },
  {
   "cell_type": "markdown",
   "metadata": {},
   "source": [
    "# Task 3: Loops"
   ]
  },
  {
   "cell_type": "markdown",
   "metadata": {},
   "source": [
    "Loop through the items in the ```fruits``` list and print each element."
   ]
  },
  {
   "cell_type": "code",
   "execution_count": 62,
   "metadata": {},
   "outputs": [
    {
     "name": "stdout",
     "output_type": "stream",
     "text": [
      "apple\n",
      "banana\n",
      "lemon\n",
      "cherry\n"
     ]
    }
   ],
   "source": [
    "#TODO\n",
    "for i in fruits:\n",
    "    print(i)"
   ]
  },
  {
   "cell_type": "markdown",
   "metadata": {},
   "source": [
    "Create a variable ```j``` set it to ```0``` and use a while loop to increase it until ```5```"
   ]
  },
  {
   "cell_type": "code",
   "execution_count": 67,
   "metadata": {},
   "outputs": [
    {
     "name": "stdout",
     "output_type": "stream",
     "text": [
      "5\n"
     ]
    }
   ],
   "source": [
    "#TODO\n",
    "j=0\n",
    "while j<5:\n",
    "    j+=1\n",
    "print(j)"
   ]
  },
  {
   "cell_type": "markdown",
   "metadata": {},
   "source": [
    "Use a for loop and the ```range``` function to loop over ```fruits``` and print each element"
   ]
  },
  {
   "cell_type": "code",
   "execution_count": 69,
   "metadata": {},
   "outputs": [
    {
     "name": "stdout",
     "output_type": "stream",
     "text": [
      "apple\n",
      "banana\n",
      "lemon\n",
      "cherry\n"
     ]
    }
   ],
   "source": [
    "#TODO\n",
    "for i in range(len(fruits)):\n",
    "    print(fruits[i])"
   ]
  },
  {
   "cell_type": "markdown",
   "metadata": {},
   "source": [
    "# Task 4: Functions"
   ]
  },
  {
   "cell_type": "markdown",
   "metadata": {},
   "source": [
    "Define a function ```calc``` which has one parameter ```my_number``` and returns the value multiplied by 2"
   ]
  },
  {
   "cell_type": "code",
   "execution_count": 73,
   "metadata": {},
   "outputs": [],
   "source": [
    "#TODO\n",
    "def calc(mynumber):\n",
    "    return mynumber*2"
   ]
  },
  {
   "cell_type": "markdown",
   "metadata": {},
   "source": [
    "Call that function with the value ```5``` and print the output"
   ]
  },
  {
   "cell_type": "code",
   "execution_count": 74,
   "metadata": {},
   "outputs": [
    {
     "data": {
      "text/plain": [
       "10"
      ]
     },
     "execution_count": 74,
     "metadata": {},
     "output_type": "execute_result"
    }
   ],
   "source": [
    "#TODO\n",
    "calc(5)"
   ]
  },
  {
   "cell_type": "markdown",
   "metadata": {},
   "source": [
    "Python has a ```sorted(iterable, key)``` function and key can be a lamdba function which gets one item and return a value which is the sorting key.\n",
    "\n",
    "As an example: ```sorted_fruits = sorted(fruits, key=lamdba x: x[1])``` which sorts on the second character of each element in the list.\n",
    "\n",
    "Sort now the list by the length of the strings."
   ]
  },
  {
   "cell_type": "code",
   "execution_count": 84,
   "metadata": {},
   "outputs": [
    {
     "data": {
      "text/plain": [
       "['a', 'a', 'ab', 'ac', 'kbc', 'cde', 'ebcd', 'baaaa']"
      ]
     },
     "execution_count": 84,
     "metadata": {},
     "output_type": "execute_result"
    }
   ],
   "source": [
    "#TODO\n",
    "my_list = ['a','ab','kbc','ac','ebcd','baaaa','a','cde']\n",
    "sorted_list = sorted(my_list,key = len)\n",
    "sorted_list"
   ]
  },
  {
   "cell_type": "markdown",
   "metadata": {},
   "source": [
    "Define a function that, given a string, returns the number of upper case and lower case characters in it."
   ]
  },
  {
   "cell_type": "code",
   "execution_count": 110,
   "metadata": {},
   "outputs": [],
   "source": [
    "#TODO\n",
    "def my_case(string):\n",
    "    upper_case=0\n",
    "    lower_case=0\n",
    "    for i in string:\n",
    "        if i.isupper() == True :\n",
    "            upper_case+=1\n",
    "        else:\n",
    "            lower_case +=1\n",
    "    print(\"upper_case: \",upper_case)\n",
    "    print(\"lower_case: \",lower_case)"
   ]
  },
  {
   "cell_type": "markdown",
   "metadata": {},
   "source": [
    "Test your function with strings of your choice."
   ]
  },
  {
   "cell_type": "code",
   "execution_count": 109,
   "metadata": {},
   "outputs": [
    {
     "name": "stdout",
     "output_type": "stream",
     "text": [
      "upper_case:  5\n",
      "lower_case:  8\n"
     ]
    }
   ],
   "source": [
    "#TODO\n",
    "test_string = 'MyTestStRinG2'\n",
    "my_case(test_string)"
   ]
  }
 ],
 "metadata": {
  "kernelspec": {
   "display_name": "Python 3",
   "language": "python",
   "name": "python3"
  },
  "language_info": {
   "codemirror_mode": {
    "name": "ipython",
    "version": 3
   },
   "file_extension": ".py",
   "mimetype": "text/x-python",
   "name": "python",
   "nbconvert_exporter": "python",
   "pygments_lexer": "ipython3",
   "version": "3.8.5"
  }
 },
 "nbformat": 4,
 "nbformat_minor": 2
}
